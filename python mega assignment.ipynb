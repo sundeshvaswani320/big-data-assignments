{
 "cells": [
  {
   "cell_type": "code",
   "execution_count": 6,
   "id": "7c1907e2",
   "metadata": {},
   "outputs": [
    {
     "data": {
      "text/plain": [
       "'python is general purpose language because it can be applied a wide range of tasks and domains . its high level nature is characterized by its abstraction from low level details and its emphasis on code readability and developer productivity'"
      ]
     },
     "execution_count": 6,
     "metadata": {},
     "output_type": "execute_result"
    }
   ],
   "source": [
    "#Q1. Why do we call Python as a general purpose and high-level programming language?\n",
    "\n",
    "#answer \n",
    "\"\"\"python is general purpose language because it can be applied a wide range of tasks and domains . its high level nature is characterized by its abstraction from low level details and its emphasis on code readability and developer productivity\"\"\""
   ]
  },
  {
   "cell_type": "code",
   "execution_count": 7,
   "id": "2792d389",
   "metadata": {},
   "outputs": [
    {
     "data": {
      "text/plain": [
       "'python is called dynamically typed language because it allows varibales to change their data type during the run time and also in python we dont have to specify the datatypes while declaring the variable '"
      ]
     },
     "execution_count": 7,
     "metadata": {},
     "output_type": "execute_result"
    }
   ],
   "source": [
    "#Q2. Why is Python called a dynamically typed language?\n",
    "\n",
    "#answer\n",
    "\"\"\"python is called dynamically typed language because it allows varibales to change their data type during the run time and also in python we dont have to specify the datatypes while declaring the variable \"\"\""
   ]
  },
  {
   "cell_type": "code",
   "execution_count": 1,
   "id": "af304d61",
   "metadata": {},
   "outputs": [
    {
     "data": {
      "text/plain": [
       "' pros  =1 . very easy to learn and use.\\n2. large support of libraries\\n3.cross- platform connections \\n4. large community and ecosystem\\ncons = 1.not used in web development \\n2. design limitations\\n3.performance - it can be slower than compiled language like c++ , java '"
      ]
     },
     "execution_count": 1,
     "metadata": {},
     "output_type": "execute_result"
    }
   ],
   "source": [
    "#Q3. List some pros and cons of Python programming language?\n",
    "\n",
    "#answer\n",
    "\"\"\" pros  =1 . very easy to learn and use.\n",
    "2. large support of libraries\n",
    "3.cross- platform connections \n",
    "4. large community and ecosystem\n",
    "cons = 1.not used in web development \n",
    "2. design limitations\n",
    "3.performance - it can be slower than compiled language like c++ , java \"\"\""
   ]
  },
  {
   "cell_type": "code",
   "execution_count": 5,
   "id": "456dde4b",
   "metadata": {},
   "outputs": [
    {
     "data": {
      "text/plain": [
       "'machine learning and data science , scientific computation, automation and scripting , game deveolpment '"
      ]
     },
     "execution_count": 5,
     "metadata": {},
     "output_type": "execute_result"
    }
   ],
   "source": [
    "#Q4. In what all domains can we use Python?\n",
    "\n",
    "#answer\n",
    "\"\"\"machine learning and data science , scientific computation, automation and scripting , game deveolpment \"\"\""
   ]
  },
  {
   "cell_type": "code",
   "execution_count": null,
   "id": "5ff49d66",
   "metadata": {},
   "outputs": [],
   "source": [
    "#Q5. What are variable and how can we declare them?\n",
    "a = 23"
   ]
  },
  {
   "cell_type": "code",
   "execution_count": 30,
   "id": "d0b07a71",
   "metadata": {},
   "outputs": [
    {
     "name": "stdout",
     "output_type": "stream",
     "text": [
      "g\n",
      "5\n"
     ]
    }
   ],
   "source": [
    "#Q6 How can we take an input from the user in Python?\n",
    "#by using input function \n",
    "a = input() \n",
    "b = int(input())  # -  if we want to take integer as an input"
   ]
  },
  {
   "cell_type": "markdown",
   "id": "c480687f",
   "metadata": {},
   "source": [
    "#Q7. What is the default datatype of the value that has been taken as an input using input() function?\n",
    "a string"
   ]
  },
  {
   "cell_type": "markdown",
   "id": "a25a234e",
   "metadata": {},
   "source": [
    "#Q8.What is type casting?\n",
    "type casting is changing a datatype of a variable"
   ]
  },
  {
   "cell_type": "code",
   "execution_count": 47,
   "id": "4f5ae36d",
   "metadata": {},
   "outputs": [
    {
     "name": "stdout",
     "output_type": "stream",
     "text": [
      "23,53\n",
      "23 53\n"
     ]
    }
   ],
   "source": [
    "#Q9Can we take more than one input from the user using single input() function? If yes, how? If no, why?\n",
    "# - yes we can take more than 1 input in input function\n",
    "#example\n",
    "a,b  = input().split(\",\")\n",
    "print(a,b)"
   ]
  },
  {
   "cell_type": "raw",
   "id": "8866f05a",
   "metadata": {},
   "source": [
    "#Q10. What are keywords?\n",
    "keyword are pre - defined function or word that can't be used as varibale names"
   ]
  },
  {
   "cell_type": "markdown",
   "id": "6d01e549",
   "metadata": {},
   "source": [
    "Q11. Can we use keywords as a variable? Support your answer with reason.\n",
    "yes ,but we shoudn't as it will override the properties of the keyword.\n"
   ]
  },
  {
   "cell_type": "markdown",
   "id": "c3f441c9",
   "metadata": {},
   "source": [
    "Q12. What is indentation? What's the use of indentaion in Python?\n",
    "indentation are the spaces in code.used to create a block of statment.\n"
   ]
  },
  {
   "cell_type": "code",
   "execution_count": null,
   "id": "3630bd12",
   "metadata": {},
   "outputs": [],
   "source": [
    "#Q13. How can we throw some output in Python?\n",
    "by using print() -function or return function\n"
   ]
  },
  {
   "cell_type": "markdown",
   "id": "383aa6f6",
   "metadata": {},
   "source": [
    "#Q14. What are operators in Python?\n",
    "keywords used to perform certain operations on values or variable are known as operators."
   ]
  },
  {
   "cell_type": "markdown",
   "id": "3cb02c31",
   "metadata": {},
   "source": [
    "#Q15. What is difference between / and // operators?\n",
    "/ -  is a float division operator\n",
    "//- is a int division operator"
   ]
  },
  {
   "cell_type": "code",
   "execution_count": 48,
   "id": "4b1a13e3",
   "metadata": {},
   "outputs": [
    {
     "name": "stdout",
     "output_type": "stream",
     "text": [
      "ineuronineuronineuronineuron\n"
     ]
    }
   ],
   "source": [
    "#Q16. Write a code that gives following as an output.\n",
    "a = \"ineuron\"\n",
    "a = a*4\n",
    "print(a)"
   ]
  },
  {
   "cell_type": "code",
   "execution_count": 51,
   "id": "51804f86",
   "metadata": {},
   "outputs": [
    {
     "name": "stdout",
     "output_type": "stream",
     "text": [
      "12\n",
      "even number\n"
     ]
    }
   ],
   "source": [
    "#Q17. Write a code to take a number as an input from the user and check if the number is odd or even.\n",
    "num = int(input())\n",
    "if num % 2 == 0:\n",
    "    print(\"even number\")\n",
    "else:\n",
    "    print(\"odd numbder\")"
   ]
  },
  {
   "cell_type": "raw",
   "id": "8ee50a06",
   "metadata": {},
   "source": [
    "#Q18. What are boolean operator?\n",
    "boolean operator have only 2 values example - True or False \n",
    ",1 or 0 \n",
    "and YES or NO"
   ]
  },
  {
   "cell_type": "raw",
   "id": "b4adef72",
   "metadata": {},
   "source": [
    "#Q19. What will the output of the following?\n",
    "1. 1\n",
    "2. 0\n",
    "3. False\n",
    "4. 1"
   ]
  },
  {
   "cell_type": "markdown",
   "id": "c7390965",
   "metadata": {},
   "source": [
    "#Q20. What are conditional statements in Python?\n",
    "\n",
    "conditional statements - if , elif, else used for conditional filtering"
   ]
  },
  {
   "cell_type": "markdown",
   "id": "1c59dbe9",
   "metadata": {},
   "source": [
    "#Q21. What is use of 'if', 'elif' and 'else' keywords?\n",
    "\n",
    "use of if -  it the first condition to check the condition is true or not if its true it will stop there only and if it is false\n",
    "then it goes to elif condition if elif is false then it goes to else condition which is the last condition."
   ]
  },
  {
   "cell_type": "code",
   "execution_count": 5,
   "id": "7bd0a2f5",
   "metadata": {},
   "outputs": [
    {
     "name": "stdout",
     "output_type": "stream",
     "text": [
      "18\n",
      "I can vote\n"
     ]
    }
   ],
   "source": [
    "#Q22. Write a code to take the age of person as an input and if age >= 18 display \"I can vote\". If age is < 18 display \"I can't vote\".\n",
    "age = int(input())\n",
    "if age >= 18 :\n",
    "    print(\"I can vote\")\n",
    "else:\n",
    "    print(\"I can't vote\")"
   ]
  },
  {
   "cell_type": "code",
   "execution_count": 20,
   "id": "eae786d3",
   "metadata": {},
   "outputs": [
    {
     "name": "stdout",
     "output_type": "stream",
     "text": [
      "392\n"
     ]
    }
   ],
   "source": [
    "#Q23. Write a code that displays the sum of all the even numbers from the given list.\n",
    "numbers = [12, 75, 150, 180, 145, 525, 50]\n",
    "l = 0\n",
    "for i in numbers:\n",
    "    if i % 2 == 0:\n",
    "        l = l+i\n",
    "    else:\n",
    "        continue\n",
    "print(l)"
   ]
  },
  {
   "cell_type": "code",
   "execution_count": 1,
   "id": "45c479e5",
   "metadata": {},
   "outputs": [
    {
     "name": "stdout",
     "output_type": "stream",
     "text": [
      "enter your 3 numbers23,45,67\n"
     ]
    },
    {
     "data": {
      "text/plain": [
       "'67'"
      ]
     },
     "execution_count": 1,
     "metadata": {},
     "output_type": "execute_result"
    }
   ],
   "source": [
    "#Q24. Write a code to take 3 numbers as an input from the user and display the greatest no as output.\n",
    "x,y,z = input(\"enter your 3 numbers\").split(',')\n",
    "max(x,y,z)"
   ]
  },
  {
   "cell_type": "code",
   "execution_count": 8,
   "id": "489bebf6",
   "metadata": {},
   "outputs": [
    {
     "name": "stdout",
     "output_type": "stream",
     "text": [
      "[75, 150, 145]\n"
     ]
    }
   ],
   "source": [
    "#Q25. Write a program to display only those numbers from a list that satisfy the following conditions\n",
    "numbers = [12, 75, 150, 180, 145, 525, 50]\n",
    "lst = []\n",
    "for i in numbers:\n",
    "  if i > 150:\n",
    "    if i > 500:\n",
    "      break\n",
    "  elif i%5==0:\n",
    "    lst.append(i) \n",
    "\n",
    "print(lst)"
   ]
  },
  {
   "cell_type": "markdown",
   "id": "0e12f069",
   "metadata": {},
   "source": [
    "#Q26. What is a string? How can we declare string in Python?\n",
    "\n",
    "string is a datatype for character type variables \n",
    "name  =  \"sundesh\""
   ]
  },
  {
   "cell_type": "markdown",
   "id": "3a0490d3",
   "metadata": {},
   "source": [
    "#Q27. How can we access the string using its index?\n",
    "\n",
    "with square brackets we can access the string indexes"
   ]
  },
  {
   "cell_type": "code",
   "execution_count": 11,
   "id": "9cb3925e",
   "metadata": {},
   "outputs": [
    {
     "data": {
      "text/plain": [
       "'iNeuron'"
      ]
     },
     "execution_count": 11,
     "metadata": {},
     "output_type": "execute_result"
    }
   ],
   "source": [
    "#Q28. Write a code to get the desired output of the following\n",
    "\n",
    "#string = \"Big Data iNeuron\"\n",
    "#desired_output = \"iNeuron\"\n",
    "\n",
    "a = \"Big Data iNeuron\"\n",
    "a[9:]\n"
   ]
  },
  {
   "cell_type": "code",
   "execution_count": 2,
   "id": "394e9a04",
   "metadata": {},
   "outputs": [
    {
     "data": {
      "text/plain": [
       "'norueNi '"
      ]
     },
     "execution_count": 2,
     "metadata": {},
     "output_type": "execute_result"
    }
   ],
   "source": [
    "#Q29. Write a code to get the desired output of the following\n",
    "\n",
    "#string = \"Big Data iNeuron\"\n",
    "#desired_output = \"norueNi\"\n",
    "b = \"Big Data iNeuron\"\n",
    "b[15:7:-1]"
   ]
  },
  {
   "cell_type": "code",
   "execution_count": 7,
   "id": "6b40c44c",
   "metadata": {},
   "outputs": [
    {
     "data": {
      "text/plain": [
       "'norueNi ataD giB'"
      ]
     },
     "execution_count": 7,
     "metadata": {},
     "output_type": "execute_result"
    }
   ],
   "source": [
    "#Q30. Resverse the string given in the above question.\n",
    "string = \"Big Data iNeuron\"\n",
    "string[::-1]"
   ]
  },
  {
   "cell_type": "markdown",
   "id": "4ac91a7d",
   "metadata": {},
   "source": [
    "#Q31. How can you delete entire string at once?\n",
    "\n",
    "del(string)"
   ]
  },
  {
   "cell_type": "markdown",
   "id": "b007ed40",
   "metadata": {},
   "source": [
    "#Q32. What is escape sequence?\n",
    "\n",
    "#answer\n",
    "it starts with a backslash. it is often used when we need to include character in a string that would otherwise be difficult to include directly\n",
    "some of the exampels of escape srquences are \n",
    "\\r\n",
    "\\n\n",
    "\\t\n",
    "\\f"
   ]
  },
  {
   "cell_type": "code",
   "execution_count": 5,
   "id": "29bdd603",
   "metadata": {},
   "outputs": [
    {
     "name": "stdout",
     "output_type": "stream",
     "text": [
      "'iNeuron's Big Data Course'\n"
     ]
    }
   ],
   "source": [
    "#Q33. How can you print the below string?\n",
    "\n",
    "#output = 'iNeuron's Big Data Course'\n",
    "print(\"'iNeuron's Big Data Course'\")"
   ]
  },
  {
   "cell_type": "markdown",
   "id": "6592a5a0",
   "metadata": {},
   "source": [
    "#Q34. What is a list in Python?\n",
    "\n",
    "list is an ordered collection of elements enclosed with [] brackets ."
   ]
  },
  {
   "cell_type": "code",
   "execution_count": 8,
   "id": "6ceee2ee",
   "metadata": {},
   "outputs": [],
   "source": [
    "#Q35. How can you create a list in Python?\n",
    "\n",
    "lst = [1,2,3,4,5]"
   ]
  },
  {
   "cell_type": "code",
   "execution_count": 11,
   "id": "f2fa4f14",
   "metadata": {},
   "outputs": [
    {
     "data": {
      "text/plain": [
       "2"
      ]
     },
     "execution_count": 11,
     "metadata": {},
     "output_type": "execute_result"
    }
   ],
   "source": [
    "#Q36. How can we access the elements in a list?\n",
    "\n",
    "#we can access the list elements by there indexes \n",
    "lst = [1,2,3,4,5]\n",
    "lst[1]"
   ]
  },
  {
   "cell_type": "code",
   "execution_count": 8,
   "id": "6f31a232",
   "metadata": {},
   "outputs": [
    {
     "data": {
      "text/plain": [
       "'iNeuron'"
      ]
     },
     "execution_count": 8,
     "metadata": {},
     "output_type": "execute_result"
    }
   ],
   "source": [
    "#Q37. Write a code to access the word \"iNeuron\" from the given list.\n",
    "\n",
    "#lst = [1,2,3,\"Hi\",[45,54, \"iNeuron\"], \"Big Data\"]\n",
    "\n",
    "lst = [1,2,3,\"Hi\",[45,54, \"iNeuron\"], \"Big Data\"]\n",
    "lst[4][2]"
   ]
  },
  {
   "cell_type": "code",
   "execution_count": 20,
   "id": "3cfe328c",
   "metadata": {},
   "outputs": [
    {
     "data": {
      "text/plain": [
       "6"
      ]
     },
     "execution_count": 20,
     "metadata": {},
     "output_type": "execute_result"
    }
   ],
   "source": [
    "#Q38. Take a list as an input from the user and find the length of the list.\n",
    "\n",
    "lst = [1,2,3,\"Hi\",[45,54, \"iNeuron\"], \"Big Data\"]\n",
    "len(lst)"
   ]
  },
  {
   "cell_type": "code",
   "execution_count": 28,
   "id": "4e12dd35",
   "metadata": {},
   "outputs": [
    {
     "data": {
      "text/plain": [
       "['Welcome', 'to', 'Big', 'Data', 'course']"
      ]
     },
     "execution_count": 28,
     "metadata": {},
     "output_type": "execute_result"
    }
   ],
   "source": [
    "#Q39. Add the word \"Big\" in the 3rd index of the given list.\n",
    "\n",
    "#lst = [\"Welcome\", \"to\", \"Data\", \"course\"]\n",
    "\n",
    "lst = [\"Welcome\", \"to\", \"Data\", \"course\"]\n",
    "lst.insert(2, \"Big\")\n",
    "lst"
   ]
  },
  {
   "cell_type": "code",
   "execution_count": 13,
   "id": "32ae800d",
   "metadata": {},
   "outputs": [
    {
     "data": {
      "text/plain": [
       "'tuples is an ordered collection of elements enclosed within () brackets.the are different from list because they are immutable and lists are mutable.'"
      ]
     },
     "execution_count": 13,
     "metadata": {},
     "output_type": "execute_result"
    }
   ],
   "source": [
    "#Q40. What is a tuple? How is it different from list?\n",
    "\n",
    "#answer\n",
    "\"\"\"tuples is an ordered collection of elements enclosed within () brackets.the are different from list because they are immutable and lists are mutable.\"\"\""
   ]
  },
  {
   "cell_type": "code",
   "execution_count": null,
   "id": "8fa9697d",
   "metadata": {},
   "outputs": [],
   "source": [
    "#Q41. How can you create a tuple in Python?\n",
    "tup = (1,2,3)\n",
    "# with round brackets ()"
   ]
  },
  {
   "cell_type": "markdown",
   "id": "bc924870",
   "metadata": {},
   "source": [
    "#Q42. Create a tuple and try to add your name in the tuple. Are you able to do it? Support your answer with reason.\n",
    "\n",
    "No, I am not able to do it because tuples are immutable."
   ]
  },
  {
   "cell_type": "code",
   "execution_count": 32,
   "id": "b9dc4d70",
   "metadata": {},
   "outputs": [
    {
     "name": "stdout",
     "output_type": "stream",
     "text": [
      "(1, 2, 3, 4, 5, 6, 7, 8)\n"
     ]
    }
   ],
   "source": [
    "# Q43. Can two tuple be appended. If yes, write a code for it. If not, why?\n",
    "t1 = (1,2,3,4)\n",
    "t2 = (5,6,7,8)\n",
    "t3 =  t1+t2\n",
    "print(t3)"
   ]
  },
  {
   "cell_type": "code",
   "execution_count": 42,
   "id": "8d0fba95",
   "metadata": {},
   "outputs": [
    {
     "name": "stdout",
     "output_type": "stream",
     "text": [
      "4\n"
     ]
    }
   ],
   "source": [
    "#Q44. Take a tuple as an input and print the count of elements in it.\n",
    "tup = (1,2,3,4)\n",
    "print(len(tup))"
   ]
  },
  {
   "cell_type": "markdown",
   "id": "9d3ff264",
   "metadata": {},
   "source": [
    "#Q45. What are sets in Python?\n",
    "\n",
    "answer -sets is an unordered collection of elements enclosed with {}\n",
    "duplicates are not allowed in sets. "
   ]
  },
  {
   "cell_type": "raw",
   "id": "ea232d51",
   "metadata": {},
   "source": [
    "#Q46. How can you create a set?\n",
    "we can create a set by using {} ,set = {}"
   ]
  },
  {
   "cell_type": "code",
   "execution_count": 49,
   "id": "63ff999b",
   "metadata": {},
   "outputs": [],
   "source": [
    "#Q47. Create a set and add \"iNeuron\" in your set.\n",
    "sett = {\"ineuron\"}"
   ]
  },
  {
   "cell_type": "code",
   "execution_count": 87,
   "id": "d7e46941",
   "metadata": {},
   "outputs": [
    {
     "name": "stdout",
     "output_type": "stream",
     "text": [
      "{1, 2, 3, 4, 5}\n"
     ]
    }
   ],
   "source": [
    "#48. Try to add multiple values using add() function.\n",
    "s1 = {1,2,3,4}\n",
    "s1.add(5)\n",
    "print(s1)"
   ]
  },
  {
   "cell_type": "markdown",
   "id": "5e92811e",
   "metadata": {},
   "source": [
    "#Q49. How is update() different from add()?\n",
    "\n",
    "answer - add() is used to add only a single element in the set \n",
    "        update() is used to add mutiple elements from a iterble to a set"
   ]
  },
  {
   "cell_type": "markdown",
   "id": "f34029e9",
   "metadata": {},
   "source": [
    "#Q50. What is clear() in sets?\n",
    "\n",
    "answer -  clear()-  The method clear is used to clear all the data from the set data structure. All elements from set will clear. And we will leave with an empty set"
   ]
  },
  {
   "cell_type": "code",
   "execution_count": 17,
   "id": "2ac87e92",
   "metadata": {},
   "outputs": [
    {
     "data": {
      "text/plain": [
       "'A frozen set in Python is an immutable and hashable collection of unique elements, similar to a set. However, unlike a regular set, a frozen set cannot be modified once it is created'"
      ]
     },
     "execution_count": 17,
     "metadata": {},
     "output_type": "execute_result"
    }
   ],
   "source": [
    "Q51. What is frozen set?\n",
    "\n",
    "\"\"\"A frozen set in Python is an immutable and hashable collection of unique elements, similar to a set. However, unlike a regular set, a frozen set cannot be modified once it is created\"\"\""
   ]
  },
  {
   "cell_type": "code",
   "execution_count": 18,
   "id": "b42e6ec2",
   "metadata": {},
   "outputs": [
    {
     "data": {
      "text/plain": [
       "' the choice between a regular set and a frozen set depends on your specific use case. If you need a collection of unique, mutable elements that can be modified, use a regular set. If you need a collection of unique elements that should remain constant and be used in hashable contexts, use a frozen set.'"
      ]
     },
     "execution_count": 18,
     "metadata": {},
     "output_type": "execute_result"
    }
   ],
   "source": [
    "Q52. How is frozen set different from set?\n",
    "\n",
    "\"\"\" the choice between a regular set and a frozen set depends on your specific use case. If you need a collection of unique, mutable elements that can be modified, use a regular set. If you need a collection of unique elements that should remain constant and be used in hashable contexts, use a frozen set.\"\"\""
   ]
  },
  {
   "cell_type": "code",
   "execution_count": 3,
   "id": "8e361d4d",
   "metadata": {},
   "outputs": [
    {
     "data": {
      "text/plain": [
       "{1, 2, 3, 4, 5, 6, 7, 8}"
      ]
     },
     "execution_count": 3,
     "metadata": {},
     "output_type": "execute_result"
    }
   ],
   "source": [
    "#Q53. What is union() in sets? Explain via code.\n",
    "\n",
    "#answer -\n",
    "s1 ={1,2,3,4}\n",
    "s2 = {5,6,7,8}\n",
    "s1.union(s2)\n",
    "#union is used to combine to variables  values"
   ]
  },
  {
   "cell_type": "code",
   "execution_count": 98,
   "id": "a1068341",
   "metadata": {},
   "outputs": [
    {
     "data": {
      "text/plain": [
       "{5, 6}"
      ]
     },
     "execution_count": 98,
     "metadata": {},
     "output_type": "execute_result"
    }
   ],
   "source": [
    "#Q54. What is intersection() in sets? Explain via code\n",
    "\n",
    "#answer \n",
    "s1 =  {1,2,3,4,5,6}\n",
    "s2 =  {5,6,7,8,9,10}\n",
    "s1.intersection(s2)\n",
    "# intersection is used to find the common values in the variables"
   ]
  },
  {
   "cell_type": "code",
   "execution_count": null,
   "id": "acbb77de",
   "metadata": {},
   "outputs": [],
   "source": [
    "Q55. What is dictionary ibn Python?"
   ]
  },
  {
   "cell_type": "markdown",
   "id": "52d3d9a0",
   "metadata": {},
   "source": [
    "#Q56. How is dictionary different from all other data structures.\n",
    "\n",
    "answer - because it hold values in (key:value) pair "
   ]
  },
  {
   "cell_type": "markdown",
   "id": "7cf81cd1",
   "metadata": {},
   "source": [
    "Q57. How can we delare a dictionary in Python?\n",
    "\n",
    "answer - dictt =  {\"key1\" : \"sundesh\"} "
   ]
  },
  {
   "cell_type": "markdown",
   "id": "08ca9ec1",
   "metadata": {},
   "source": [
    "#Q58. What will the output of the following?\n",
    "#var = {}\n",
    "#print(type(var))\n",
    "\n",
    "output will be  = type = set\n"
   ]
  },
  {
   "cell_type": "code",
   "execution_count": 5,
   "id": "d91cb946",
   "metadata": {},
   "outputs": [
    {
     "name": "stdout",
     "output_type": "stream",
     "text": [
      "{'key1': 'apple', 'key2': 'banana'}\n"
     ]
    }
   ],
   "source": [
    "#Q59. How can we add an element in a dictionary?\n",
    "dictt =  {\"key1\" : \"apple\"}\n",
    "dictt[\"key2\"] = \"banana\"\n",
    "print(dictt)"
   ]
  },
  {
   "cell_type": "code",
   "execution_count": 52,
   "id": "ff66e7a0",
   "metadata": {},
   "outputs": [
    {
     "name": "stdout",
     "output_type": "stream",
     "text": [
      "dict_values(['Ford', 'Mustang', 1964])\n"
     ]
    }
   ],
   "source": [
    "#Q60. Create a dictionary and access all the values in that dictionary.\n",
    "car = {\n",
    "  \"brand\": \"Ford\",\n",
    "  \"model\": \"Mustang\",\n",
    "  \"year\": 1964\n",
    "    }\n",
    "print(car.values())"
   ]
  },
  {
   "cell_type": "code",
   "execution_count": 55,
   "id": "819c9aef",
   "metadata": {},
   "outputs": [
    {
     "name": "stdout",
     "output_type": "stream",
     "text": [
      "{'name': 'Marie', 'age': '22', 'sex': 'Female'}\n"
     ]
    }
   ],
   "source": [
    "#Q61. Create a nested dictionary and access all the element in the inner dictionary.\n",
    "people = {1: {'name': 'John', 'age': '27', 'sex': 'Male'},\n",
    "          2: {'name': 'Marie', 'age': '22', 'sex': 'Female'}}\n",
    "print(people[2])"
   ]
  },
  {
   "cell_type": "code",
   "execution_count": 27,
   "id": "4e6e55d6",
   "metadata": {},
   "outputs": [
    {
     "data": {
      "text/plain": [
       "'The get() method returns the value of the item with the specified key.'"
      ]
     },
     "execution_count": 27,
     "metadata": {},
     "output_type": "execute_result"
    }
   ],
   "source": [
    "#Q62. What is the use of get() function?\n",
    "\n",
    "\"\"\"The get() method returns the value of the item with the specified key.\"\"\""
   ]
  },
  {
   "cell_type": "code",
   "execution_count": 33,
   "id": "206039e0",
   "metadata": {},
   "outputs": [
    {
     "data": {
      "text/plain": [
       "'Returns a list containing a tuple for each key value pair'"
      ]
     },
     "execution_count": 33,
     "metadata": {},
     "output_type": "execute_result"
    }
   ],
   "source": [
    "#Q63. What is the use of items() function?\n",
    "#answer\n",
    "people = {1: {'name': 'John', 'age': '27', 'sex': 'Male'},\n",
    "          2: {'name': 'Marie', 'age': '22', 'sex': 'Female'}}\n",
    "people.items()\n",
    "\"\"\"Returns a list containing a tuple for each key value pair\"\"\""
   ]
  },
  {
   "cell_type": "code",
   "execution_count": 30,
   "id": "f43a7b8a",
   "metadata": {},
   "outputs": [
    {
     "data": {
      "text/plain": [
       "'pop() -The pop() method removes the specified item from the dictionary.'"
      ]
     },
     "execution_count": 30,
     "metadata": {},
     "output_type": "execute_result"
    }
   ],
   "source": [
    "#Q64. What is the use of pop() function?\n",
    "\n",
    "#answer \n",
    "l1= {'key1': 'apple', 'key2': 'banana'}\n",
    "l1.pop(\"key1\")\n",
    "l1\n",
    "\"\"\"pop() -The pop() method removes the specified item from the dictionary.\"\"\""
   ]
  },
  {
   "cell_type": "code",
   "execution_count": 26,
   "id": "bff91306",
   "metadata": {},
   "outputs": [
    {
     "name": "stdout",
     "output_type": "stream",
     "text": [
      "('year', 1964)\n"
     ]
    },
    {
     "data": {
      "text/plain": [
       "'popitem() - this function removes a random key:value pair from dict '"
      ]
     },
     "execution_count": 26,
     "metadata": {},
     "output_type": "execute_result"
    }
   ],
   "source": [
    "#Q65. What is the use of popitems() function?\n",
    "#answer\n",
    "\n",
    "car = {\n",
    "  \"brand\": \"Ford\",\n",
    "  \"model\": \"Mustang\",\n",
    "  \"year\": 1964\n",
    "    }\n",
    "x = car.popitem()\n",
    "print(x)\n",
    "\"\"\"popitem() - this function removes a random key:value pair from dict \"\"\""
   ]
  },
  {
   "cell_type": "code",
   "execution_count": 34,
   "id": "d5abc73a",
   "metadata": {},
   "outputs": [
    {
     "data": {
      "text/plain": [
       "\"answer -Returns a list containing the dictionary's keys\""
      ]
     },
     "execution_count": 34,
     "metadata": {},
     "output_type": "execute_result"
    }
   ],
   "source": [
    "#Q66. What is the use of keys() function?\n",
    "\n",
    "\"\"\"answer -Returns a list containing the dictionary's keys\"\"\""
   ]
  },
  {
   "cell_type": "code",
   "execution_count": 36,
   "id": "d58b303a",
   "metadata": {},
   "outputs": [
    {
     "data": {
      "text/plain": [
       "'answer - Returns a list of all the values in the dictionary'"
      ]
     },
     "execution_count": 36,
     "metadata": {},
     "output_type": "execute_result"
    }
   ],
   "source": [
    "#Q67. What is the use of values() function?\n",
    "\n",
    "\"\"\"answer - Returns a list of all the values in the dictionary\"\"\""
   ]
  },
  {
   "cell_type": "code",
   "execution_count": 38,
   "id": "3f64989e",
   "metadata": {},
   "outputs": [
    {
     "data": {
      "text/plain": [
       "' loops -loops allow us to repeatedly execute a block of code as long as a certain condition is met'"
      ]
     },
     "execution_count": 38,
     "metadata": {},
     "output_type": "execute_result"
    }
   ],
   "source": [
    "#Q68. What are loops in Python?\n",
    "\n",
    "#answer\n",
    "\"\"\" loops -loops allow us to repeatedly execute a block of code as long as a certain condition is met\"\"\""
   ]
  },
  {
   "cell_type": "markdown",
   "id": "dee4a6d9",
   "metadata": {},
   "source": [
    "#Q69. How many type of loop are there in Python?\n",
    "\n",
    "answer = 2 types of loops are there while loop and for loop"
   ]
  },
  {
   "cell_type": "code",
   "execution_count": 41,
   "id": "21c4189f",
   "metadata": {},
   "outputs": [
    {
     "data": {
      "text/plain": [
       "' in case of for loop the iterations is known whereas in condition of while loop the iteration is unknown. the code will run until condition becomes false  '"
      ]
     },
     "execution_count": 41,
     "metadata": {},
     "output_type": "execute_result"
    }
   ],
   "source": [
    "#Q70. What is the difference between for and while loops?\n",
    "#answer\n",
    "\"\"\" in case of for loop the iterations is known whereas in condition of while loop the iteration is unknown. the code will run until condition becomes false  \"\"\"\n"
   ]
  },
  {
   "cell_type": "code",
   "execution_count": 1,
   "id": "df539ece",
   "metadata": {},
   "outputs": [
    {
     "data": {
      "text/plain": [
       "'continue statement-  continue statement is used within the loops and it is used to skip the current iteration and move to the next iteration'"
      ]
     },
     "execution_count": 1,
     "metadata": {},
     "output_type": "execute_result"
    }
   ],
   "source": [
    "#Q71. What is the use of continue statement?\n",
    "\n",
    "\n",
    "#answer\n",
    "\"\"\"continue statement-  continue statement is used within the loops and it is used to skip the current iteration and move to the next iteration\"\"\""
   ]
  },
  {
   "cell_type": "code",
   "execution_count": 39,
   "id": "4dbc92b4",
   "metadata": {},
   "outputs": [
    {
     "data": {
      "text/plain": [
       "'break statement - break statment if you use it. it will throw you out of the loop and the code'"
      ]
     },
     "execution_count": 39,
     "metadata": {},
     "output_type": "execute_result"
    }
   ],
   "source": [
    "#Q72. What is the use of break statement?\n",
    "\n",
    "#answer \n",
    "\"\"\"break statement - break statment if you use it. it will throw you out of the loop and the code\"\"\" "
   ]
  },
  {
   "cell_type": "code",
   "execution_count": 45,
   "id": "3fcf5ba4",
   "metadata": {},
   "outputs": [
    {
     "data": {
      "text/plain": [
       "\"use of pass statement is just not give the error if we don't want to define the  full code or don't want to complete the code at that time and leave it for later\""
      ]
     },
     "execution_count": 45,
     "metadata": {},
     "output_type": "execute_result"
    }
   ],
   "source": [
    "#Q73. What is the use of pass statement?\n",
    "#answer \n",
    "\"\"\"use of pass statement is just not give the error if we don't want to define the  full code or don't want to complete the code at that time and leave it for later\"\"\""
   ]
  },
  {
   "cell_type": "code",
   "execution_count": 2,
   "id": "0334a558",
   "metadata": {},
   "outputs": [
    {
     "data": {
      "text/plain": [
       "'range() - it is used to generate a sequence of numbers that can be used in iteration .\\nsyntax = for i in range(0,10): output  =  0,1,2,3,4,5,6,7,8,9'"
      ]
     },
     "execution_count": 2,
     "metadata": {},
     "output_type": "execute_result"
    }
   ],
   "source": [
    "#Q74. What is the use of range() function?\n",
    "\n",
    "#answer\n",
    "\"\"\"range() - it is used to generate a sequence of numbers that can be used in iteration .\n",
    "syntax = for i in range(0,10): output  =  0,1,2,3,4,5,6,7,8,9\"\"\""
   ]
  },
  {
   "cell_type": "code",
   "execution_count": 55,
   "id": "4c80717f",
   "metadata": {},
   "outputs": [
    {
     "name": "stdout",
     "output_type": "stream",
     "text": [
      "Ford\n",
      "Mustang\n",
      "1964\n"
     ]
    }
   ],
   "source": [
    "#Q75. How can you loop over a dictionary?\n",
    "\n",
    "car = {\n",
    "  \"brand\": \"Ford\",\n",
    "  \"model\": \"Mustang\",\n",
    "  \"year\": 1964\n",
    "    }\n",
    "for i in car:\n",
    "    print(car[i])\n",
    "  \n"
   ]
  },
  {
   "cell_type": "code",
   "execution_count": 8,
   "id": "07775cf8",
   "metadata": {},
   "outputs": [
    {
     "data": {
      "text/plain": [
       "120"
      ]
     },
     "execution_count": 8,
     "metadata": {},
     "output_type": "execute_result"
    }
   ],
   "source": [
    "#Q76. Write a Python program to find the factorial of a given number.\n",
    "def factorial(n): \n",
    "    if n<0:\n",
    "        return 0\n",
    "    elif n==0 or n==1:\n",
    "        return 1\n",
    "    else: \n",
    "        factt=1\n",
    "        while(n>1):\n",
    "            factt= factt * n\n",
    "            n =n-1\n",
    "        return factt\n",
    "    \n",
    "n =5\n",
    "factorial(n)\n"
   ]
  },
  {
   "cell_type": "code",
   "execution_count": 9,
   "id": "3cf53f9d",
   "metadata": {},
   "outputs": [
    {
     "data": {
      "text/plain": [
       "5250.0"
      ]
     },
     "execution_count": 9,
     "metadata": {},
     "output_type": "execute_result"
    }
   ],
   "source": [
    "#Q77. Write a Python program to calculate the simple interest. Formula to calculate simple interest is SI = (PRT)/100\n",
    "\n",
    "def SI(p,r,t):\n",
    "        simple_intrest  =  p*r*t/100\n",
    "        return simple_intrest\n",
    "\n",
    "\n",
    "SI(50000,3.5,3)\n",
    "            "
   ]
  },
  {
   "cell_type": "code",
   "execution_count": 10,
   "id": "2d5d145d",
   "metadata": {},
   "outputs": [
    {
     "data": {
      "text/plain": [
       "'compound intrest of this is 323'"
      ]
     },
     "execution_count": 10,
     "metadata": {},
     "output_type": "execute_result"
    }
   ],
   "source": [
    "#Q78. Write a Python program to calculate the compound interest. Formula of compound interest is A = P(1+ R/100)^t.\n",
    "def Ci(P,R,t):\n",
    "    A = P*(1+ R/100)**t\n",
    "    ci = A-P\n",
    "    return f\"compound intrest of this is {int(ci)}\"\n",
    "\n",
    "Ci(8000,2,2)"
   ]
  },
  {
   "cell_type": "code",
   "execution_count": 15,
   "id": "15e66c36",
   "metadata": {},
   "outputs": [
    {
     "name": "stdout",
     "output_type": "stream",
     "text": [
      "3 is a prime number\n"
     ]
    }
   ],
   "source": [
    "#Q79. Write a Python program to check if a number is prime or not.\n",
    "\n",
    "#answer\n",
    "def is_prime(n):\n",
    "    if n <= 1:\n",
    "        return False\n",
    "    elif n <= 3:\n",
    "        return True\n",
    "    elif n % 2 == 0 or n % 3 == 0:\n",
    "        return False\n",
    "    i = 5\n",
    "    while i * i <= n:\n",
    "        if n % i == 0 or n % (i + 2) == 0:\n",
    "            return False\n",
    "        i =i+ 6\n",
    "    return True\n",
    "\n",
    "\n",
    "number = 3\n",
    "if is_prime(number):\n",
    "    print(f\"{number} is a prime number\")\n",
    "else:\n",
    "    print(f\"{number} is not a prime number\")"
   ]
  },
  {
   "cell_type": "code",
   "execution_count": 16,
   "id": "405d308d",
   "metadata": {},
   "outputs": [
    {
     "name": "stdout",
     "output_type": "stream",
     "text": [
      "enter your number :153\n",
      "153 is an armstong number\n"
     ]
    }
   ],
   "source": [
    "#Q80. Write a Python program to check Armstrong Number.\n",
    "#eg  = 122 =  1*1*1 + 2*2*2 + 2*2*2 \n",
    "def armstrong(num):\n",
    "    if num<0:\n",
    "        return 0\n",
    "    elif num == 0 or num == 1:\n",
    "        return 1\n",
    "    else:\n",
    "        num_str = str(num)\n",
    "        \n",
    "        num_digits= len(num_str)\n",
    "        sum1 = 0\n",
    "        \n",
    "        \n",
    "        for i in num_str:\n",
    "            digit = int(i)\n",
    "            sum1 = sum1 + digit ** num_digits\n",
    "            \n",
    "        return num == sum1\n",
    "    \n",
    "        \n",
    "num = int(input(\"enter your number :\"))\n",
    "if armstrong(num):\n",
    "    print(f\"{num} is an armstong number\")\n",
    "else:\n",
    "    print(f\"{num} is not a armstong number\")\n"
   ]
  },
  {
   "cell_type": "code",
   "execution_count": 4,
   "id": "e527b9b7",
   "metadata": {},
   "outputs": [
    {
     "name": "stdout",
     "output_type": "stream",
     "text": [
      "21\n"
     ]
    }
   ],
   "source": [
    "# Q81. Write a Python program to find the n-th Fibonacci Number.\n",
    "def Fibonacci(n):\n",
    "    if n<= 0:\n",
    "        print(\"Incorrect input\")\n",
    "    elif n == 1:\n",
    "        return 0\n",
    "    elif n == 2:\n",
    "        return 1\n",
    "    else:\n",
    "        return Fibonacci(n-1)+Fibonacci(n-2)\n",
    "\n",
    "print(Fibonacci(9))"
   ]
  },
  {
   "cell_type": "code",
   "execution_count": 41,
   "id": "4248d475",
   "metadata": {},
   "outputs": [
    {
     "data": {
      "text/plain": [
       "[5, 2, 3, 4, 1]"
      ]
     },
     "execution_count": 41,
     "metadata": {},
     "output_type": "execute_result"
    }
   ],
   "source": [
    "#Q82. Write a Python program to interchange the first and last element in a list.\n",
    "def swap(l1, index1, index2):\n",
    "    \n",
    "    l1[index1], l1[index2] = l1[index2] , l1[index1]\n",
    "    return l1 \n",
    "     \n",
    "    \n",
    "index1,index2 = 0, -1\n",
    "l1 =[1,2,3,4,5]\n",
    "swap(l1, index1, index2)"
   ]
  },
  {
   "cell_type": "code",
   "execution_count": 16,
   "id": "4a89871c",
   "metadata": {},
   "outputs": [
    {
     "data": {
      "text/plain": [
       "[1, 4, 3, 2, 5]"
      ]
     },
     "execution_count": 16,
     "metadata": {},
     "output_type": "execute_result"
    }
   ],
   "source": [
    "#Q83. Write a Python program to swap two elements in a list.\n",
    "\n",
    "def swap(l1, index1, index2):\n",
    "    \n",
    "    l1[index1], l1[index2] = l1[index2] , l1[index1]\n",
    "    return l1 \n",
    "     \n",
    "    \n",
    "index1,index2 = 1, 3\n",
    "l1 =[1,2,3,4,5]\n",
    "swap(l1, index1, index2)"
   ]
  },
  {
   "cell_type": "code",
   "execution_count": 31,
   "id": "6645ca6c",
   "metadata": {},
   "outputs": [
    {
     "name": "stdout",
     "output_type": "stream",
     "text": [
      "93\n"
     ]
    }
   ],
   "source": [
    "#Q84. Write a Python program to find N largest element from a list.\n",
    "def largest(lisst):\n",
    "    largest_num =  lisst[0]\n",
    "    for i in lisst:\n",
    "        if i > largest_num:\n",
    "            largest_num  =  i\n",
    "    print(largest_num)\n",
    "\n",
    "              \n",
    "l1 =[1,4,5,8,93,7,3]\n",
    "largest(l1)"
   ]
  },
  {
   "cell_type": "code",
   "execution_count": 32,
   "id": "101b760a",
   "metadata": {},
   "outputs": [
    {
     "name": "stdout",
     "output_type": "stream",
     "text": [
      "[1, 3, 6, 10, 15]\n"
     ]
    }
   ],
   "source": [
    "#Q85. Write a Python program to find cumulative sum of a list.\n",
    "\n",
    "def csum(ln):\n",
    "\n",
    "    cl = []\n",
    "\n",
    "    s = 0\n",
    "    for i in ln:\n",
    "        s += i\n",
    "        cl.append(s)\n",
    "    \n",
    "    print(cl)\n",
    "ln = [1, 2, 3, 4, 5]\n",
    "csum(ln)"
   ]
  },
  {
   "cell_type": "code",
   "execution_count": 44,
   "id": "2ce83e56",
   "metadata": {},
   "outputs": [
    {
     "name": "stdout",
     "output_type": "stream",
     "text": [
      "nayan\n",
      "Yes it is palindrome\n"
     ]
    }
   ],
   "source": [
    "#Q86. Write a Python program to check if a string is palindrome or not. \n",
    "def isPalindrome(n):\n",
    "    return n == n[::-1]\n",
    " \n",
    "\n",
    "ans = isPalindrome(input())\n",
    " \n",
    "if ans:\n",
    "    print(\"Yes it is palindrome\")\n",
    "else:\n",
    "    print(\"No it not a palindrome\")"
   ]
  },
  {
   "cell_type": "code",
   "execution_count": 13,
   "id": "32a6d609",
   "metadata": {},
   "outputs": [
    {
     "name": "stdout",
     "output_type": "stream",
     "text": [
      "Hllo, World!\n"
     ]
    }
   ],
   "source": [
    "#Q87. Write a Python program to remove i'th element from a string.\n",
    "\n",
    "\n",
    "#answer\n",
    "def remove_ith_element(input_string, i):\n",
    "    if i < 0 or i >= len(input_string):\n",
    "        return \"Index out of bounds\"\n",
    "    \n",
    "    result = input_string[:i] + input_string[i + 1:]\n",
    "    \n",
    "    return result\n",
    "\n",
    "\n",
    "input_string = \"Hello, World!\"\n",
    "i =1\n",
    "new_string = remove_ith_element(input_string, i)\n",
    "print(new_string)\n",
    "    \n",
    "        \n",
    " "
   ]
  },
  {
   "cell_type": "code",
   "execution_count": 7,
   "id": "0229b09f",
   "metadata": {},
   "outputs": [
    {
     "name": "stdout",
     "output_type": "stream",
     "text": [
      "the substring is present. which is bigdata\n"
     ]
    }
   ],
   "source": [
    "#Q88. Write a Python program to check if a substring is present in a given string.\n",
    "def substring(s1, s2):\n",
    "    if s2 in s1:\n",
    "        print(f\"the substring is present. which is {s2}\")\n",
    "    else:\n",
    "        print(\"substring is not present in the string\")\n",
    "\n",
    "s1 = \"hi, welcome to bigdata programe\"\n",
    "s2 = \"bigdata\"\n",
    "substring(s1,s2)"
   ]
  },
  {
   "cell_type": "code",
   "execution_count": 8,
   "id": "aa1a2e0d",
   "metadata": {},
   "outputs": [
    {
     "name": "stdout",
     "output_type": "stream",
     "text": [
      "sundeshh\n"
     ]
    }
   ],
   "source": [
    "#Q89. Write a Python program to find words which are greater than given length k.\n",
    "\n",
    "def size(word):\n",
    "    k = \"greater\"\n",
    "    if len(word)>len(k):\n",
    "        print(word)\n",
    "    else:\n",
    "        print(\"k is greater that the word\")\n",
    "\n",
    "size(\"sundeshh\")"
   ]
  },
  {
   "cell_type": "code",
   "execution_count": 20,
   "id": "5ae3a812",
   "metadata": {},
   "outputs": [
    {
     "name": "stdout",
     "output_type": "stream",
     "text": [
      "Unique Values: [1, 2, 3]\n"
     ]
    }
   ],
   "source": [
    "#Q90. Write a Python program to extract unqiue dictionary values.\n",
    "\n",
    "#answer\n",
    "my_dict = {'a': 1, 'b': 2, 'c': 1, 'd': 3, 'e': 2}\n",
    "\n",
    "values_list = list(my_dict.values())\n",
    "\n",
    "unique_values = set(values_list)\n",
    "\n",
    "unique_values_list = list(unique_values)\n",
    "                          \n",
    "print(\"Unique Values:\", unique_values_list)"
   ]
  },
  {
   "cell_type": "code",
   "execution_count": 27,
   "id": "3393ebf1",
   "metadata": {},
   "outputs": [
    {
     "name": "stdout",
     "output_type": "stream",
     "text": [
      "{'brand': 'Ford', 'model': 'Mustang', 'year': 1964, 1: {'name': 'John', 'age': '27', 'sex': 'Male'}, 2: {'name': 'Marie', 'age': '22', 'sex': 'Female'}}\n"
     ]
    }
   ],
   "source": [
    "#Q91. Write a Python program to merge two dictionary.\n",
    "\n",
    "#answer\n",
    "def merge():\n",
    "    car = {\n",
    "      \"brand\": \"Ford\",\n",
    "      \"model\": \"Mustang\",\n",
    "      \"year\": 1964\n",
    "        }\n",
    "    people = {1: {'name': 'John', 'age': '27', 'sex': 'Male'},\n",
    "              2: {'name': 'Marie', 'age': '22', 'sex': 'Female'}}\n",
    "    car.update(people)\n",
    "    print(car)\n",
    "\n",
    "merge()"
   ]
  },
  {
   "cell_type": "code",
   "execution_count": 65,
   "id": "be0512ae",
   "metadata": {},
   "outputs": [
    {
     "name": "stdout",
     "output_type": "stream",
     "text": [
      "{'Sachin': 10, 'MSD': 7, 'Kohli': 18, 'Rohit': 45}\n"
     ]
    }
   ],
   "source": [
    "#Q92. Write a Python program to convert a list of tuples into dictionary.\n",
    "\n",
    "#Input : [('Sachin', 10), ('MSD', 7), ('Kohli', 18), ('Rohit', 45)]\n",
    "#Output : {'Sachin': 10, 'MSD': 7, 'Kohli': 18, 'Rohit': 45}\n",
    "\n",
    "list_of_tuples = [('Sachin', 10), ('MSD', 7), ('Kohli', 18), ('Rohit', 45)]\n",
    "\n",
    "result_dict = {}\n",
    "for i in list_of_tuples:\n",
    "    key, value = i\n",
    "    result_dict[key] = value\n",
    "\n",
    "print(result_dict)"
   ]
  },
  {
   "cell_type": "code",
   "execution_count": 26,
   "id": "a01b87f6",
   "metadata": {},
   "outputs": [
    {
     "name": "stdout",
     "output_type": "stream",
     "text": [
      "[(9, 729), (5, 125), (6, 216)]\n"
     ]
    }
   ],
   "source": [
    "#Q93. Write a Python program to create a list of tuples from given list having number and its cube in each tuple.\n",
    "\n",
    "#Input:  list = [9, 5, 6]\n",
    "#Output: [(9, 729), (5, 125), (6, 216)]\n",
    "\n",
    "numbers = [9, 5, 6]\n",
    "result = [(num, num ** 3) for num in numbers]\n",
    "\n",
    "print(result)"
   ]
  },
  {
   "cell_type": "code",
   "execution_count": 7,
   "id": "bf851342",
   "metadata": {},
   "outputs": [
    {
     "name": "stdout",
     "output_type": "stream",
     "text": [
      "[(7, 7), (7, 8), (2, 7), (2, 8), (7, 7), (7, 2), (8, 7), (8, 2)]\n"
     ]
    }
   ],
   "source": [
    "#Q94. Write a Python program to get all combinations of 2 tuples.\n",
    "\n",
    "#Input : test_tuple1 = (7, 2), test_tuple2 = (7, 8)\n",
    "#Output : [(7, 7), (7, 8), (2, 7), (2, 8), (7, 7), (7, 2), (8, 7), (8, 2)]\n",
    "\n",
    "def combinations(t1,t2):\n",
    " \n",
    "    combs = []\n",
    "    for x in t1:\n",
    "        for y in t2:\n",
    "                combs.append((x, y))\n",
    "    \n",
    "    for c in t2:\n",
    "        for b in t1:\n",
    "            combs.append((c,b))\n",
    "            \n",
    "            \n",
    "    print(combs)\n",
    "     \n",
    "    \n",
    "t1 = (7, 2)\n",
    "t2 = (7, 8)\n",
    "combinations(t1,t2)    "
   ]
  },
  {
   "cell_type": "code",
   "execution_count": 4,
   "id": "72f2f423",
   "metadata": {},
   "outputs": [
    {
     "name": "stdout",
     "output_type": "stream",
     "text": [
      "[('Geeks', 8), ('for', 24), ('Geeks', 30)]\n"
     ]
    }
   ],
   "source": [
    "# Q95. Write a Python program to sort a list of tuples by second item.\n",
    "\n",
    "#Input : [('for', 24), ('Geeks', 8), ('Geeks', 30)] \n",
    "#Output : [('Geeks', 8), ('for', 24), ('Geeks', 30)]\n",
    "\n",
    "\n",
    "#answer\n",
    "input_list = [('for', 24), ('Geeks', 8), ('Geeks', 30)]\n",
    "\n",
    "\n",
    "sorted_list = sorted(input_list, key=lambda x: x[1])\n",
    "\n",
    "print(sorted_list)\n",
    "    \n",
    "    \n",
    "    "
   ]
  },
  {
   "cell_type": "code",
   "execution_count": 31,
   "id": "268c4d84",
   "metadata": {},
   "outputs": [
    {
     "name": "stdout",
     "output_type": "stream",
     "text": [
      "*\r\n",
      "**\r\n",
      "***\r\n",
      "****\r\n",
      "*****\r\n"
     ]
    }
   ],
   "source": [
    "#Q96. Write a python program to print below pattern.\n",
    "\n",
    "# * \n",
    "# * * \n",
    "# * * * \n",
    "# * * * * \n",
    "# * * * * * \n",
    "\n",
    "def star(n):\n",
    "    \n",
    "    for i in range(0,n):\n",
    "        \n",
    "        for i in range(i+1):\n",
    "            \n",
    "            print(\"*\", end =\"\")\n",
    "    \n",
    "        print(\"\\r\")\n",
    "    \n",
    "n = 5\n",
    "star(n)"
   ]
  },
  {
   "cell_type": "code",
   "execution_count": 30,
   "id": "dcdb60ad",
   "metadata": {},
   "outputs": [
    {
     "name": "stdout",
     "output_type": "stream",
     "text": [
      "    *\n",
      "   **\n",
      "  ***\n",
      " ****\n",
      "*****\n"
     ]
    }
   ],
   "source": [
    "# Q97. Write a python program to print below pattern.\n",
    "\n",
    "#     *\n",
    "#    **\n",
    "#   ***\n",
    "#  ****\n",
    "# *****\n",
    "\n",
    "def star(n):\n",
    "    for i in range(1, n + 1):  \n",
    "      \n",
    "        for j in range(n - i):\n",
    "            print(\" \", end=\"\")\n",
    "            \n",
    "        for k in range(i):\n",
    "            print(\"*\", end=\"\")\n",
    "      \n",
    "        print()\n",
    "\n",
    "n = 5\n",
    "star(n)"
   ]
  },
  {
   "cell_type": "code",
   "execution_count": 22,
   "id": "3c3aaa3a",
   "metadata": {},
   "outputs": [
    {
     "name": "stdout",
     "output_type": "stream",
     "text": [
      "    * \r\n",
      "   * * \r\n",
      "  * * * \r\n",
      " * * * * \r\n",
      "* * * * * \r\n"
     ]
    }
   ],
   "source": [
    "# Q98. Write a python program to print below pattern.\n",
    "\n",
    "#     * \n",
    "#    * * \n",
    "#   * * * \n",
    "#  * * * * \n",
    "# * * * * * \n",
    "\n",
    "\n",
    "def tree(n):\n",
    "    for  i in range(1,n+1):\n",
    "        \n",
    "        for j in range(n-i):\n",
    "            print(\" \", end = \"\")\n",
    "            \n",
    "        for k in range(i):\n",
    "            print(\"*\", end =\" \")\n",
    "        \n",
    "        print(\"\\r\")\n",
    "    \n",
    "n= 5\n",
    "tree(n)"
   ]
  },
  {
   "cell_type": "code",
   "execution_count": 16,
   "id": "cca81ebe",
   "metadata": {},
   "outputs": [
    {
     "name": "stdout",
     "output_type": "stream",
     "text": [
      "1 \r\n",
      "1 2 \r\n",
      "1 2 3 \r\n",
      "1 2 3 4 \r\n",
      "1 2 3 4 5 \r\n"
     ]
    }
   ],
   "source": [
    "#Q99. Write a python program to print below pattern.\n",
    "\n",
    "#answer\n",
    "def nums(n):\n",
    "    \n",
    "    for i in range(1,n+1):\n",
    "        \n",
    "        for j in range(1,i+1):\n",
    "            print(j,end = \" \")\n",
    "            \n",
    "        print(\"\\r\")\n",
    "n =5\n",
    "nums(n)"
   ]
  },
  {
   "cell_type": "code",
   "execution_count": 67,
   "id": "6ee8fe02",
   "metadata": {},
   "outputs": [
    {
     "name": "stdout",
     "output_type": "stream",
     "text": [
      "A \r\n",
      "B B \r\n",
      "C C C \r\n",
      "D D D D \r\n",
      "E E E E E \r\n"
     ]
    }
   ],
   "source": [
    "# Q100. Write a python program to print below pattern.\n",
    "\n",
    "#  A \n",
    "#  B B \n",
    "#  C C C \n",
    "#  D D D D \n",
    "#  E E E E E\n",
    "\n",
    "\n",
    "def alpha(n):\n",
    "    \n",
    "    num  = 65  \n",
    "    for i in range(0,n):\n",
    "     \n",
    "\n",
    "        for j in range(i+1):\n",
    "            ch= chr(num) \n",
    "            print(ch, end =\" \")\n",
    "        num+=1   \n",
    "        print(\"\\r\")\n",
    "n =5\n",
    "alpha(n)\n",
    "            \n"
   ]
  }
 ],
 "metadata": {
  "kernelspec": {
   "display_name": "Python 3 (ipykernel)",
   "language": "python",
   "name": "python3"
  },
  "language_info": {
   "codemirror_mode": {
    "name": "ipython",
    "version": 3
   },
   "file_extension": ".py",
   "mimetype": "text/x-python",
   "name": "python",
   "nbconvert_exporter": "python",
   "pygments_lexer": "ipython3",
   "version": "3.9.12"
  }
 },
 "nbformat": 4,
 "nbformat_minor": 5
}
